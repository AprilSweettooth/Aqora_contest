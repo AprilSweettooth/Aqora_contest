{
 "cells": [
  {
   "cell_type": "code",
   "execution_count": 1,
   "metadata": {},
   "outputs": [],
   "source": [
    "import numpy as np\n",
    "import pandas as pd\n",
    "\n",
    "\n",
    "class ClinicalTrial:\n",
    "    rho: float  # Relative importance between first and second moments\n",
    "    w: np.ndarray  # Normalized patient covariates\n",
    "\n",
    "    def __init__(self, w: np.ndarray, rho=0.5) -> None:\n",
    "        self.rho = rho\n",
    "        # Normalize covariates\n",
    "        self.w = (w - np.mean(w, axis=0)) / np.std(w, axis=0)\n",
    "\n",
    "    def assert_valid(self, group1: np.ndarray, group2: np.ndarray) -> None:\n",
    "        \"\"\"\n",
    "        Checks if the patient constraints are met.\n",
    "\n",
    "        Arguments (where n is the number of patients):\n",
    "            - group1: np.ndarray(size = n) => Binary array of patients belonging to group 1\n",
    "            - group2: np.ndarray(size = n) => Binary array of patients belonging to group 2\n",
    "        Throws an AssertionError if the constraints are not met.\n",
    "        \"\"\"\n",
    "        group_size = int(self.w.shape[0] / 2)\n",
    "        # constraint 1: number of people in each group\n",
    "        assert (\n",
    "            np.sum(group1) == group_size\n",
    "        ), f\"Each group should have {group_size} patients\"\n",
    "        # contraint 2: every patient is in one group\n",
    "        assert (\n",
    "            group1 + group2 == 1\n",
    "        ).all(), \"Every patient needs to be assigned to one group\"\n",
    "\n",
    "    def discrepancy(self, group1: np.ndarray, group2: np.ndarray) -> float:\n",
    "        \"\"\"\n",
    "        Calculates discrepancy between patient groups.\n",
    "\n",
    "        Arguments (where n is the number of patients):\n",
    "            - group1: np.ndarray(size = n) => Binary array of patients belonging to group 1\n",
    "            - group2: np.ndarray(size = n) => Binary array of patients belonging to group 2\n",
    "        Returns:\n",
    "            - float => Value of discrepancy measure for group1 and group2\n",
    "        \"\"\"\n",
    "        # Check that all the constraints are being met\n",
    "        self.assert_valid(group1, group2)\n",
    "\n",
    "        # Order of the groups is arbitrary\n",
    "        if group1[0] == 0:\n",
    "            group1, group2 = group2, group1\n",
    "\n",
    "        n, r = self.w.shape\n",
    "\n",
    "        # Calculate mean values for each covariate\n",
    "        Mu = []\n",
    "        for i in range(r):\n",
    "            Mu.append(self.w[:, i].dot(group1 - group2) / n)\n",
    "\n",
    "        # Calculate second moments (variance and covariance)\n",
    "        Var_ii = []  # variance\n",
    "        Var_ij = []  # covariance\n",
    "\n",
    "        for i in range(r):\n",
    "            for j in range(i, r):\n",
    "                if i == j:\n",
    "                    Var_ii.append((self.w[:, i] ** 2).dot(group1 - group2) / n)\n",
    "                else:\n",
    "                    Var_ij.append(\n",
    "                        (self.w[:, i] * self.w[:, j]).dot(group1 - group2) / n\n",
    "                    )\n",
    "        # print(            np.sum(np.abs(Mu)))\n",
    "        # Calculate final discrepancy\n",
    "        discrepancy = (\n",
    "            np.sum(np.abs(Mu))\n",
    "            + self.rho * np.sum(np.abs(Var_ii))\n",
    "            + 2 * self.rho * np.sum(np.abs(Var_ij))\n",
    "        )\n",
    "        return discrepancy\n",
    "\n",
    "    def __repr__(self) -> str:\n",
    "        return f\"ClinicalTrial(w=np.ndarray(shape={self.w.shape}), rho={self.rho})\"\n",
    "\n",
    "data = pd.read_csv('ingenii-clinical-trial/data/pbc.csv')\n",
    "w = data.sample(100, random_state=np.random.default_rng(42)).values\n",
    "ws = (w - np.mean(w, axis=0)) / np.std(w, axis=0)\n",
    "n, r = ws.shape"
   ]
  },
  {
   "cell_type": "code",
   "execution_count": 2,
   "metadata": {},
   "outputs": [],
   "source": [
    "import dimod\n",
    "# N1 = round(np.ceil(np.sum(np.argsort(ws[:,0])[::-1][:int(n/2)])))  # number of slack variables\n",
    "# N2 = round(np.ceil(np.sum(np.argsort(ws[:,1])[::-1][:int(n/2)])))  # number of slack variables\n",
    "# N3 = round(np.ceil(np.sum(np.argsort(ws[:,2])[::-1][:int(n/2)])))  # number of slack variables\n",
    "# N12 = round(np.ceil(np.sum(np.argsort(ws[:,0]*ws[:,1])[::-1][:int(n/2)])))  # number of slack variables\n",
    "# N13 = round(np.ceil(np.sum(np.argsort(ws[:,0]*ws[:,2])[::-1][:int(n/2)])))  # number of slack variables\n",
    "# N23 = round(np.ceil(np.sum(np.argsort(ws[:,1]*ws[:,2])[::-1][:int(n/2)])))  # number of slack variables\n",
    "# Us = {'U1':N1, 'U2':N2, 'U3':N3, 'U4':N12, 'U5':N13, 'U6':N23}"
   ]
  },
  {
   "cell_type": "code",
   "execution_count": 3,
   "metadata": {},
   "outputs": [],
   "source": [
    "cqm = dimod.ConstrainedQuadraticModel()"
   ]
  },
  {
   "cell_type": "code",
   "execution_count": 4,
   "metadata": {},
   "outputs": [],
   "source": [
    "xs = {}\n",
    "for i in range(n):\n",
    "    xs['x'+str(i+1)] = 0\n",
    "x = [dimod.Binary(f\"x_{j+1}\") for j in range(n)]"
   ]
  },
  {
   "cell_type": "code",
   "execution_count": 5,
   "metadata": {},
   "outputs": [
    {
     "data": {
      "text/plain": [
       "'all_patients_allocation'"
      ]
     },
     "execution_count": 5,
     "metadata": {},
     "output_type": "execute_result"
    }
   ],
   "source": [
    "cqm.add_constraint(sum(x[i] for i in range(n)) == int(n/2), label=f'all_patients_allocation')"
   ]
  },
  {
   "cell_type": "code",
   "execution_count": 6,
   "metadata": {},
   "outputs": [],
   "source": [
    "Us = {'U1':100/27, 'U2':100/27, 'U3':100/27, 'U4':100/27, 'U5':100/27, 'U6':100/27, 'U7':100/27, 'U8':100/27, 'U9':100/27}\n",
    "quantities = [dimod.Real(f'{U}') for U in Us.keys()]"
   ]
  },
  {
   "cell_type": "code",
   "execution_count": 7,
   "metadata": {},
   "outputs": [],
   "source": [
    "for ind, U in enumerate(Us.keys()):\n",
    "    # quantities[ind].set_upper_bound(U, 1)\n",
    "    quantities[ind].set_upper_bound(U, Us[U])"
   ]
  },
  {
   "cell_type": "code",
   "execution_count": 8,
   "metadata": {},
   "outputs": [],
   "source": [
    "# Us_bin = {}\n",
    "# for i in range(6):\n",
    "#     Us_bin['U'+str(i+1)] = round(np.ceil(np.log2(Us['U'+str(i+1)])))\n",
    "# slacks = []\n",
    "# for ind, U in enumerate(Us_bin.keys()):\n",
    "#   slacks.append([dimod.Binary(f\"{U}_{j+1}\") for j in range(Us_bin[U])])"
   ]
  },
  {
   "cell_type": "code",
   "execution_count": 9,
   "metadata": {},
   "outputs": [],
   "source": [
    "# cqm.add_constraint(sum([ws[i,0]*x[i] for i in range(n)]) - sum(slacks[0]) <= 0, label=\"mu1\")\n",
    "# cqm.add_constraint(sum([ws[i,1]*x[i] for i in range(n)]) - sum(slacks[1]) <= 0, label=\"mu2\")\n",
    "# cqm.add_constraint(sum([ws[i,2]*x[i] for i in range(n)]) - sum(slacks[2]) <= 0, label=\"mu3\")\n",
    "# cqm.add_constraint(sum([ws[i,0]*ws[i,1]*x[i] for i in range(n)]) - sum(slacks[3]) <= 0, label=\"rho12\")\n",
    "# cqm.add_constraint(sum([ws[i,0]*ws[i,2]*x[i] for i in range(n)]) - sum(slacks[4]) <= 0, label=\"rho13\")\n",
    "# cqm.add_constraint(sum([ws[i,1]*ws[i,2]*x[i] for i in range(n)]) - sum(slacks[5]) <= 0, label=\"rho23\")"
   ]
  },
  {
   "cell_type": "code",
   "execution_count": 10,
   "metadata": {},
   "outputs": [],
   "source": [
    "# square_cost = sum([1/2*(ws[i,0]**2+ws[i,1]**2+ws[i,2]**2)*x[i] for i in range(n)])\n",
    "# cqm.set_objective(sum(quantities) + square_cost)\n",
    "cqm.set_objective(sum(quantities))"
   ]
  },
  {
   "cell_type": "code",
   "execution_count": 11,
   "metadata": {},
   "outputs": [
    {
     "data": {
      "text/plain": [
       "'rho33-'"
      ]
     },
     "execution_count": 11,
     "metadata": {},
     "output_type": "execute_result"
    }
   ],
   "source": [
    "cqm.add_constraint(sum([ws[i,0]*x[i] for i in range(n)]) - quantities[0] <= 0, label=\"mu1\")\n",
    "cqm.add_constraint(sum([ws[i,1]*x[i] for i in range(n)]) - quantities[1] <= 0, label=\"mu2\")\n",
    "cqm.add_constraint(sum([ws[i,2]*x[i] for i in range(n)]) - quantities[2] <= 0, label=\"mu3\")\n",
    "cqm.add_constraint(sum([ws[i,0]*ws[i,1]*x[i] for i in range(n)]) - quantities[3] <= 0, label=\"rho12\")\n",
    "cqm.add_constraint(sum([ws[i,0]*ws[i,2]*x[i] for i in range(n)]) - quantities[4] <= 0, label=\"rho13\")\n",
    "cqm.add_constraint(sum([ws[i,1]*ws[i,2]*x[i] for i in range(n)]) - quantities[5] <= 0, label=\"rho23\")\n",
    "\n",
    "cqm.add_constraint(sum([ws[i,0]*ws[i,0]*x[i] for i in range(n)]) - quantities[6] <= 0, label=\"rho11\")\n",
    "cqm.add_constraint(sum([ws[i,1]*ws[i,1]*x[i] for i in range(n)]) - quantities[7] <= 0, label=\"rho22\")\n",
    "cqm.add_constraint(sum([ws[i,2]*ws[i,2]*x[i] for i in range(n)]) - quantities[8] <= 0, label=\"rho33\")\n",
    "\n",
    "cqm.add_constraint(- sum([ws[i,0]*x[i] for i in range(n)]) - quantities[0] <= 0, label=\"mu1-\")\n",
    "cqm.add_constraint(- sum([ws[i,1]*x[i] for i in range(n)]) - quantities[1] <= 0, label=\"mu2-\")\n",
    "cqm.add_constraint(- sum([ws[i,2]*x[i] for i in range(n)]) - quantities[2] <= 0, label=\"mu3-\")\n",
    "cqm.add_constraint(- sum([ws[i,0]*ws[i,1]*x[i] for i in range(n)]) - quantities[3] <= 0, label=\"rho12-\")\n",
    "cqm.add_constraint(- sum([ws[i,0]*ws[i,2]*x[i] for i in range(n)]) - quantities[4] <= 0, label=\"rho13-\")\n",
    "cqm.add_constraint(- sum([ws[i,1]*ws[i,2]*x[i] for i in range(n)]) - quantities[5] <= 0, label=\"rho23-\")\n",
    "\n",
    "cqm.add_constraint(- sum([ws[i,0]*ws[i,0]*x[i] for i in range(n)]) - quantities[6] <= 0, label=\"rho11-\")\n",
    "cqm.add_constraint(- sum([ws[i,1]*ws[i,1]*x[i] for i in range(n)]) - quantities[7] <= 0, label=\"rho22-\")\n",
    "cqm.add_constraint(- sum([ws[i,2]*ws[i,2]*x[i] for i in range(n)]) - quantities[8] <= 0, label=\"rho33-\")"
   ]
  },
  {
   "cell_type": "code",
   "execution_count": 12,
   "metadata": {},
   "outputs": [
    {
     "data": {
      "text/plain": [
       "['all_patients_allocation',\n",
       " 'mu1',\n",
       " 'mu2',\n",
       " 'mu3',\n",
       " 'rho12',\n",
       " 'rho13',\n",
       " 'rho23',\n",
       " 'rho11',\n",
       " 'rho22',\n",
       " 'rho33',\n",
       " 'mu1-',\n",
       " 'mu2-',\n",
       " 'mu3-',\n",
       " 'rho12-',\n",
       " 'rho13-',\n",
       " 'rho23-',\n",
       " 'rho11-',\n",
       " 'rho22-',\n",
       " 'rho33-']"
      ]
     },
     "execution_count": 12,
     "metadata": {},
     "output_type": "execute_result"
    }
   ],
   "source": [
    "list(cqm.constraints.keys())"
   ]
  },
  {
   "cell_type": "code",
   "execution_count": 13,
   "metadata": {},
   "outputs": [
    {
     "data": {
      "text/plain": [
       "109"
      ]
     },
     "execution_count": 13,
     "metadata": {},
     "output_type": "execute_result"
    }
   ],
   "source": [
    "len(cqm.variables)"
   ]
  },
  {
   "cell_type": "code",
   "execution_count": 14,
   "metadata": {},
   "outputs": [
    {
     "ename": "SolverFailureError",
     "evalue": "Problem not accepted because user has insufficient remaining solver access time in project DEV",
     "output_type": "error",
     "traceback": [
      "\u001b[0;31m---------------------------------------------------------------------------\u001b[0m",
      "\u001b[0;31mSolverFailureError\u001b[0m                        Traceback (most recent call last)",
      "Cell \u001b[0;32mIn[14], line 4\u001b[0m\n\u001b[1;32m      2\u001b[0m sampler \u001b[38;5;241m=\u001b[39m LeapHybridCQMSampler(token\u001b[38;5;241m=\u001b[39m\u001b[38;5;124m'\u001b[39m\u001b[38;5;124mDEV-100ec3ead35fe44b2c0f1a7c0ca586059b8c4d45\u001b[39m\u001b[38;5;124m'\u001b[39m)                        \n\u001b[1;32m      3\u001b[0m sampleset \u001b[38;5;241m=\u001b[39m sampler\u001b[38;5;241m.\u001b[39msample_cqm(cqm, time_limit\u001b[38;5;241m=\u001b[39m\u001b[38;5;241m60\u001b[39m\u001b[38;5;241m*\u001b[39m\u001b[38;5;241m60\u001b[39m)                    \n\u001b[0;32m----> 4\u001b[0m feasible_sampleset \u001b[38;5;241m=\u001b[39m \u001b[43msampleset\u001b[49m\u001b[38;5;241;43m.\u001b[39;49m\u001b[43mfilter\u001b[49m\u001b[43m(\u001b[49m\u001b[38;5;28;43;01mlambda\u001b[39;49;00m\u001b[43m \u001b[49m\u001b[43mrow\u001b[49m\u001b[43m:\u001b[49m\u001b[43m \u001b[49m\u001b[43mrow\u001b[49m\u001b[38;5;241;43m.\u001b[39;49m\u001b[43mis_feasible\u001b[49m\u001b[43m)\u001b[49m   \n\u001b[1;32m      5\u001b[0m \u001b[38;5;28mprint\u001b[39m(\u001b[38;5;124m\"\u001b[39m\u001b[38;5;132;01m{}\u001b[39;00m\u001b[38;5;124m feasible solutions of \u001b[39m\u001b[38;5;132;01m{}\u001b[39;00m\u001b[38;5;124m.\u001b[39m\u001b[38;5;124m\"\u001b[39m\u001b[38;5;241m.\u001b[39mformat(\u001b[38;5;28mlen\u001b[39m(feasible_sampleset), \u001b[38;5;28mlen\u001b[39m(sampleset)))    \n",
      "File \u001b[0;32m/usr/local/lib/python3.12/site-packages/dimod/sampleset.py:1425\u001b[0m, in \u001b[0;36mSampleSet.filter\u001b[0;34m(self, pred)\u001b[0m\n\u001b[1;32m   1397\u001b[0m \u001b[38;5;28;01mdef\u001b[39;00m \u001b[38;5;21mfilter\u001b[39m(\u001b[38;5;28mself\u001b[39m, pred: Callable[[Any], \u001b[38;5;28mbool\u001b[39m]) \u001b[38;5;241m-\u001b[39m\u001b[38;5;241m>\u001b[39m \u001b[38;5;124m'\u001b[39m\u001b[38;5;124mSampleSet\u001b[39m\u001b[38;5;124m'\u001b[39m:\n\u001b[1;32m   1398\u001b[0m \u001b[38;5;250m    \u001b[39m\u001b[38;5;124;03m\"\"\"Return a new sampleset with rows filtered by the given predicate.\u001b[39;00m\n\u001b[1;32m   1399\u001b[0m \n\u001b[1;32m   1400\u001b[0m \u001b[38;5;124;03m    Args:\u001b[39;00m\n\u001b[0;32m   (...)\u001b[0m\n\u001b[1;32m   1420\u001b[0m \n\u001b[1;32m   1421\u001b[0m \u001b[38;5;124;03m    \"\"\"\u001b[39;00m\n\u001b[1;32m   1423\u001b[0m     keep \u001b[38;5;241m=\u001b[39m np\u001b[38;5;241m.\u001b[39mfromiter(\n\u001b[1;32m   1424\u001b[0m         (pred(datum) \u001b[38;5;28;01mfor\u001b[39;00m datum \u001b[38;5;129;01min\u001b[39;00m \u001b[38;5;28mself\u001b[39m\u001b[38;5;241m.\u001b[39mdata(sorted_by\u001b[38;5;241m=\u001b[39m\u001b[38;5;28;01mNone\u001b[39;00m, sample_dict_cast\u001b[38;5;241m=\u001b[39m\u001b[38;5;28;01mFalse\u001b[39;00m)),\n\u001b[0;32m-> 1425\u001b[0m         count\u001b[38;5;241m=\u001b[39m\u001b[38;5;28;43mlen\u001b[39;49m\u001b[43m(\u001b[49m\u001b[38;5;28;43mself\u001b[39;49m\u001b[43m)\u001b[49m, dtype\u001b[38;5;241m=\u001b[39m\u001b[38;5;28mbool\u001b[39m)\n\u001b[1;32m   1427\u001b[0m     \u001b[38;5;28;01mreturn\u001b[39;00m \u001b[38;5;28mtype\u001b[39m(\u001b[38;5;28mself\u001b[39m)(\u001b[38;5;28mself\u001b[39m\u001b[38;5;241m.\u001b[39mrecord[keep], \u001b[38;5;28mself\u001b[39m\u001b[38;5;241m.\u001b[39mvariables, \u001b[38;5;28mself\u001b[39m\u001b[38;5;241m.\u001b[39minfo, \u001b[38;5;28mself\u001b[39m\u001b[38;5;241m.\u001b[39mvartype)\n",
      "File \u001b[0;32m/usr/local/lib/python3.12/site-packages/dimod/sampleset.py:986\u001b[0m, in \u001b[0;36mSampleSet.__len__\u001b[0;34m(self)\u001b[0m\n\u001b[1;32m    984\u001b[0m \u001b[38;5;28;01mdef\u001b[39;00m \u001b[38;5;21m__len__\u001b[39m(\u001b[38;5;28mself\u001b[39m):\n\u001b[1;32m    985\u001b[0m \u001b[38;5;250m    \u001b[39m\u001b[38;5;124;03m\"\"\"The number of rows in record.\"\"\"\u001b[39;00m\n\u001b[0;32m--> 986\u001b[0m     \u001b[38;5;28;01mreturn\u001b[39;00m \u001b[38;5;28;43mself\u001b[39;49m\u001b[38;5;241;43m.\u001b[39;49m\u001b[43mrecord\u001b[49m\u001b[38;5;241m.\u001b[39m\u001b[38;5;21m__len__\u001b[39m()\n",
      "File \u001b[0;32m/usr/local/lib/python3.12/site-packages/dimod/sampleset.py:1126\u001b[0m, in \u001b[0;36mSampleSet.record\u001b[0;34m(self)\u001b[0m\n\u001b[1;32m   1110\u001b[0m \u001b[38;5;129m@property\u001b[39m\n\u001b[1;32m   1111\u001b[0m \u001b[38;5;28;01mdef\u001b[39;00m \u001b[38;5;21mrecord\u001b[39m(\u001b[38;5;28mself\u001b[39m):\n\u001b[1;32m   1112\u001b[0m \u001b[38;5;250m    \u001b[39m\u001b[38;5;124;03m\"\"\":obj:`numpy.recarray` containing the samples, energies, number of occurences, and other sample data.\u001b[39;00m\n\u001b[1;32m   1113\u001b[0m \n\u001b[1;32m   1114\u001b[0m \u001b[38;5;124;03m    Examples:\u001b[39;00m\n\u001b[0;32m   (...)\u001b[0m\n\u001b[1;32m   1124\u001b[0m \n\u001b[1;32m   1125\u001b[0m \u001b[38;5;124;03m    \"\"\"\u001b[39;00m\n\u001b[0;32m-> 1126\u001b[0m     \u001b[38;5;28;43mself\u001b[39;49m\u001b[38;5;241;43m.\u001b[39;49m\u001b[43mresolve\u001b[49m\u001b[43m(\u001b[49m\u001b[43m)\u001b[49m\n\u001b[1;32m   1127\u001b[0m     \u001b[38;5;28;01mreturn\u001b[39;00m \u001b[38;5;28mself\u001b[39m\u001b[38;5;241m.\u001b[39m_record\n",
      "File \u001b[0;32m/usr/local/lib/python3.12/site-packages/dimod/sampleset.py:1490\u001b[0m, in \u001b[0;36mSampleSet.resolve\u001b[0;34m(self)\u001b[0m\n\u001b[1;32m   1488\u001b[0m \u001b[38;5;66;03m# if it doesn't have the attribute then it is already resolved\u001b[39;00m\n\u001b[1;32m   1489\u001b[0m \u001b[38;5;28;01mif\u001b[39;00m \u001b[38;5;28mhasattr\u001b[39m(\u001b[38;5;28mself\u001b[39m, \u001b[38;5;124m'\u001b[39m\u001b[38;5;124m_future\u001b[39m\u001b[38;5;124m'\u001b[39m):\n\u001b[0;32m-> 1490\u001b[0m     samples \u001b[38;5;241m=\u001b[39m \u001b[38;5;28;43mself\u001b[39;49m\u001b[38;5;241;43m.\u001b[39;49m\u001b[43m_result_hook\u001b[49m\u001b[43m(\u001b[49m\u001b[38;5;28;43mself\u001b[39;49m\u001b[38;5;241;43m.\u001b[39;49m\u001b[43m_future\u001b[49m\u001b[43m)\u001b[49m\n\u001b[1;32m   1491\u001b[0m     \u001b[38;5;28mself\u001b[39m\u001b[38;5;241m.\u001b[39m\u001b[38;5;21m__init__\u001b[39m(samples\u001b[38;5;241m.\u001b[39mrecord, samples\u001b[38;5;241m.\u001b[39mvariables, samples\u001b[38;5;241m.\u001b[39minfo, samples\u001b[38;5;241m.\u001b[39mvartype)\n\u001b[1;32m   1492\u001b[0m     \u001b[38;5;28;01mdel\u001b[39;00m \u001b[38;5;28mself\u001b[39m\u001b[38;5;241m.\u001b[39m_future\n",
      "File \u001b[0;32m/usr/local/lib/python3.12/site-packages/dwave/cloud/computation.py:833\u001b[0m, in \u001b[0;36mFuture.sampleset.<locals>.<lambda>\u001b[0;34m(f)\u001b[0m\n\u001b[1;32m    830\u001b[0m \u001b[38;5;28;01mif\u001b[39;00m sampleset \u001b[38;5;129;01mis\u001b[39;00m \u001b[38;5;129;01mnot\u001b[39;00m \u001b[38;5;28;01mNone\u001b[39;00m:\n\u001b[1;32m    831\u001b[0m     \u001b[38;5;28;01mreturn\u001b[39;00m sampleset\n\u001b[0;32m--> 833\u001b[0m sampleset \u001b[38;5;241m=\u001b[39m dimod\u001b[38;5;241m.\u001b[39mSampleSet\u001b[38;5;241m.\u001b[39mfrom_future(\u001b[38;5;28mself\u001b[39m, \u001b[38;5;28;01mlambda\u001b[39;00m f: \u001b[43mf\u001b[49m\u001b[38;5;241;43m.\u001b[39;49m\u001b[43mwait_sampleset\u001b[49m\u001b[43m(\u001b[49m\u001b[43m)\u001b[49m)\n\u001b[1;32m    835\u001b[0m \u001b[38;5;66;03m# propagate id to sampleset as well\u001b[39;00m\n\u001b[1;32m    836\u001b[0m \u001b[38;5;66;03m# note: this requires dimod>=0.8.21 (before that version SampleSet\u001b[39;00m\n\u001b[1;32m    837\u001b[0m \u001b[38;5;66;03m# had slots set which prevented dynamic addition of attributes).\u001b[39;00m\n\u001b[1;32m    838\u001b[0m sampleset\u001b[38;5;241m.\u001b[39mwait_id \u001b[38;5;241m=\u001b[39m \u001b[38;5;28mself\u001b[39m\u001b[38;5;241m.\u001b[39mwait_id\n",
      "File \u001b[0;32m/usr/local/lib/python3.12/site-packages/dwave/cloud/computation.py:771\u001b[0m, in \u001b[0;36mFuture.wait_sampleset\u001b[0;34m(self)\u001b[0m\n\u001b[1;32m    768\u001b[0m \u001b[38;5;250m\u001b[39m\u001b[38;5;124;03m\"\"\"Blocking sampleset getter.\"\"\"\u001b[39;00m\n\u001b[1;32m    770\u001b[0m \u001b[38;5;66;03m# resolve response\u001b[39;00m\n\u001b[0;32m--> 771\u001b[0m \u001b[38;5;28;43mself\u001b[39;49m\u001b[38;5;241;43m.\u001b[39;49m\u001b[43m_load_result\u001b[49m\u001b[43m(\u001b[49m\u001b[43m)\u001b[49m\n\u001b[1;32m    773\u001b[0m \u001b[38;5;66;03m# check if sampleset already resolved (e.g. returned in response)\u001b[39;00m\n\u001b[1;32m    774\u001b[0m sampleset \u001b[38;5;241m=\u001b[39m \u001b[38;5;28mself\u001b[39m\u001b[38;5;241m.\u001b[39m_sampleset() \u001b[38;5;28;01mif\u001b[39;00m \u001b[38;5;28mself\u001b[39m\u001b[38;5;241m.\u001b[39m_sampleset \u001b[38;5;28;01melse\u001b[39;00m \u001b[38;5;28;01mNone\u001b[39;00m\n",
      "File \u001b[0;32m/usr/local/lib/python3.12/site-packages/dwave/cloud/computation.py:907\u001b[0m, in \u001b[0;36mFuture._load_result\u001b[0;34m(self)\u001b[0m\n\u001b[1;32m    905\u001b[0m \u001b[38;5;66;03m# Check for other error conditions\u001b[39;00m\n\u001b[1;32m    906\u001b[0m \u001b[38;5;28;01mif\u001b[39;00m \u001b[38;5;28mself\u001b[39m\u001b[38;5;241m.\u001b[39m_exception \u001b[38;5;129;01mis\u001b[39;00m \u001b[38;5;129;01mnot\u001b[39;00m \u001b[38;5;28;01mNone\u001b[39;00m:\n\u001b[0;32m--> 907\u001b[0m     \u001b[38;5;28;01mraise\u001b[39;00m \u001b[38;5;28mself\u001b[39m\u001b[38;5;241m.\u001b[39m_exception\n\u001b[1;32m    909\u001b[0m \u001b[38;5;28;01mwith\u001b[39;00m \u001b[38;5;28mself\u001b[39m\u001b[38;5;241m.\u001b[39m_result_write_lock:\n\u001b[1;32m    910\u001b[0m     \u001b[38;5;66;03m# If someone else took care of decoding while we were waiting\u001b[39;00m\n\u001b[1;32m    911\u001b[0m     \u001b[38;5;28;01mif\u001b[39;00m \u001b[38;5;28mself\u001b[39m\u001b[38;5;241m.\u001b[39m_result \u001b[38;5;129;01mis\u001b[39;00m \u001b[38;5;129;01mnot\u001b[39;00m \u001b[38;5;28;01mNone\u001b[39;00m:\n",
      "File \u001b[0;32m/usr/local/lib/python3.12/site-packages/dwave/cloud/client/base.py:1347\u001b[0m, in \u001b[0;36mClient._handle_problem_status\u001b[0;34m(self, message, future)\u001b[0m\n\u001b[1;32m   1345\u001b[0m             \u001b[38;5;28;01mraise\u001b[39;00m SolverOfflineError(errmsg)\n\u001b[1;32m   1346\u001b[0m         \u001b[38;5;28;01melse\u001b[39;00m:\n\u001b[0;32m-> 1347\u001b[0m             \u001b[38;5;28;01mraise\u001b[39;00m SolverFailureError(errmsg)\n\u001b[1;32m   1349\u001b[0m \u001b[38;5;28;01mexcept\u001b[39;00m \u001b[38;5;167;01mException\u001b[39;00m \u001b[38;5;28;01mas\u001b[39;00m exc:\n\u001b[1;32m   1350\u001b[0m     \u001b[38;5;66;03m# If there were any unhandled errors we need to release the\u001b[39;00m\n\u001b[1;32m   1351\u001b[0m     \u001b[38;5;66;03m# lock in the future, otherwise deadlock occurs.\u001b[39;00m\n\u001b[1;32m   1352\u001b[0m     future\u001b[38;5;241m.\u001b[39m_set_exception(exc)\n",
      "\u001b[0;31mSolverFailureError\u001b[0m: Problem not accepted because user has insufficient remaining solver access time in project DEV"
     ]
    }
   ],
   "source": [
    "from dwave.system import LeapHybridCQMSampler\n",
    "sampler = LeapHybridCQMSampler(token='DEV-100ec3ead35fe44b2c0f1a7c0ca586059b8c4d45')                        \n",
    "sampleset = sampler.sample_cqm(cqm, time_limit=60*60)                    \n",
    "feasible_sampleset = sampleset.filter(lambda row: row.is_feasible)   \n",
    "print(\"{} feasible solutions of {}.\".format(len(feasible_sampleset), len(sampleset)))    "
   ]
  },
  {
   "cell_type": "code",
   "execution_count": 15,
   "metadata": {},
   "outputs": [],
   "source": [
    "# from neal import SimulatedAnnealingSampler\n",
    "# sampler = SimulatedAnnealingSampler()                 \n",
    "# qubo_sample = sampler.sample_qubo(cqm, num_reads=100)\n",
    "# print(\"objective function:\", qubo_sample.first.energy, \"\\n\")\n",
    "# qubo_solution = qubo_sample.first.sample\n",
    "# print(\"qubo solution:\", qubo_solution, \"\\n\")               \n",
    "# feasible_sampleset = sampleset.filter(lambda row: row.is_feasible)   \n",
    "# print(\"{} feasible solutions of {}.\".format(len(feasible_sampleset), len(sampleset)))    "
   ]
  },
  {
   "cell_type": "code",
   "execution_count": 16,
   "metadata": {},
   "outputs": [
    {
     "ename": "ValueError",
     "evalue": "SampleSet is empty",
     "output_type": "error",
     "traceback": [
      "\u001b[0;31m---------------------------------------------------------------------------\u001b[0m",
      "\u001b[0;31mStopIteration\u001b[0m                             Traceback (most recent call last)",
      "File \u001b[0;32m/usr/local/lib/python3.12/site-packages/dimod/sampleset.py:1085\u001b[0m, in \u001b[0;36mSampleSet.first\u001b[0;34m(self)\u001b[0m\n\u001b[1;32m   1084\u001b[0m \u001b[38;5;28;01mtry\u001b[39;00m:\n\u001b[0;32m-> 1085\u001b[0m     \u001b[38;5;28;01mreturn\u001b[39;00m \u001b[38;5;28;43mnext\u001b[39;49m\u001b[43m(\u001b[49m\u001b[38;5;28;43mself\u001b[39;49m\u001b[38;5;241;43m.\u001b[39;49m\u001b[43mdata\u001b[49m\u001b[43m(\u001b[49m\u001b[43msorted_by\u001b[49m\u001b[38;5;241;43m=\u001b[39;49m\u001b[38;5;124;43m'\u001b[39;49m\u001b[38;5;124;43menergy\u001b[39;49m\u001b[38;5;124;43m'\u001b[39;49m\u001b[43m,\u001b[49m\u001b[43m \u001b[49m\u001b[43mname\u001b[49m\u001b[38;5;241;43m=\u001b[39;49m\u001b[38;5;124;43m'\u001b[39;49m\u001b[38;5;124;43mSample\u001b[39;49m\u001b[38;5;124;43m'\u001b[39;49m\u001b[43m)\u001b[49m\u001b[43m)\u001b[49m\n\u001b[1;32m   1086\u001b[0m \u001b[38;5;28;01mexcept\u001b[39;00m \u001b[38;5;167;01mStopIteration\u001b[39;00m:\n",
      "\u001b[0;31mStopIteration\u001b[0m: ",
      "\nDuring handling of the above exception, another exception occurred:\n",
      "\u001b[0;31mValueError\u001b[0m                                Traceback (most recent call last)",
      "Cell \u001b[0;32mIn[16], line 1\u001b[0m\n\u001b[0;32m----> 1\u001b[0m best \u001b[38;5;241m=\u001b[39m \u001b[43mfeasible_sampleset\u001b[49m\u001b[38;5;241;43m.\u001b[39;49m\u001b[43mfirst\u001b[49m\n",
      "File \u001b[0;32m/usr/local/lib/python3.12/site-packages/dimod/sampleset.py:1087\u001b[0m, in \u001b[0;36mSampleSet.first\u001b[0;34m(self)\u001b[0m\n\u001b[1;32m   1085\u001b[0m     \u001b[38;5;28;01mreturn\u001b[39;00m \u001b[38;5;28mnext\u001b[39m(\u001b[38;5;28mself\u001b[39m\u001b[38;5;241m.\u001b[39mdata(sorted_by\u001b[38;5;241m=\u001b[39m\u001b[38;5;124m'\u001b[39m\u001b[38;5;124menergy\u001b[39m\u001b[38;5;124m'\u001b[39m, name\u001b[38;5;241m=\u001b[39m\u001b[38;5;124m'\u001b[39m\u001b[38;5;124mSample\u001b[39m\u001b[38;5;124m'\u001b[39m))\n\u001b[1;32m   1086\u001b[0m \u001b[38;5;28;01mexcept\u001b[39;00m \u001b[38;5;167;01mStopIteration\u001b[39;00m:\n\u001b[0;32m-> 1087\u001b[0m     \u001b[38;5;28;01mraise\u001b[39;00m \u001b[38;5;167;01mValueError\u001b[39;00m(\u001b[38;5;124m'\u001b[39m\u001b[38;5;132;01m{}\u001b[39;00m\u001b[38;5;124m is empty\u001b[39m\u001b[38;5;124m'\u001b[39m\u001b[38;5;241m.\u001b[39mformat(\u001b[38;5;28mself\u001b[39m\u001b[38;5;241m.\u001b[39m\u001b[38;5;18m__class__\u001b[39m\u001b[38;5;241m.\u001b[39m\u001b[38;5;18m__name__\u001b[39m))\n",
      "\u001b[0;31mValueError\u001b[0m: SampleSet is empty"
     ]
    }
   ],
   "source": [
    "best = feasible_sampleset.first"
   ]
  },
  {
   "cell_type": "code",
   "execution_count": null,
   "metadata": {},
   "outputs": [
    {
     "data": {
      "text/plain": [
       "Sample(sample={'U1': -1.1975143099363095e-13, 'U2': 0.23669475373605475, 'U3': 0.937599260734739, 'U4': 0.08061770729365869, 'U5': 0.10479458664724263, 'U6': 0.014269444341550655, 'x_1': 0.0, 'x_10': 1.0, 'x_100': 1.0, 'x_11': 1.0, 'x_12': 0.0, 'x_13': 0.0, 'x_14': 0.0, 'x_15': 1.0, 'x_16': 0.0, 'x_17': 0.0, 'x_18': 1.0, 'x_19': 1.0, 'x_2': 1.0, 'x_20': 1.0, 'x_21': 0.0, 'x_22': 0.0, 'x_23': 1.0, 'x_24': 0.0, 'x_25': 0.0, 'x_26': 0.0, 'x_27': 0.0, 'x_28': 1.0, 'x_29': 0.0, 'x_3': 0.0, 'x_30': 0.0, 'x_31': 1.0, 'x_32': 1.0, 'x_33': 0.0, 'x_34': 1.0, 'x_35': 0.0, 'x_36': 1.0, 'x_37': 0.0, 'x_38': 1.0, 'x_39': 0.0, 'x_4': 1.0, 'x_40': 1.0, 'x_41': 0.0, 'x_42': 0.0, 'x_43': 0.0, 'x_44': 0.0, 'x_45': 1.0, 'x_46': 1.0, 'x_47': 1.0, 'x_48': 0.0, 'x_49': 0.0, 'x_5': 1.0, 'x_50': 1.0, 'x_51': 1.0, 'x_52': 0.0, 'x_53': 0.0, 'x_54': 1.0, 'x_55': 1.0, 'x_56': 0.0, 'x_57': 0.0, 'x_58': 0.0, 'x_59': 0.0, 'x_6': 0.0, 'x_60': 0.0, 'x_61': 1.0, 'x_62': 1.0, 'x_63': 1.0, 'x_64': 1.0, 'x_65': 1.0, 'x_66': 1.0, 'x_67': 0.0, 'x_68': 1.0, 'x_69': 1.0, 'x_7': 0.0, 'x_70': 0.0, 'x_71': 0.0, 'x_72': 1.0, 'x_73': 0.0, 'x_74': 0.0, 'x_75': 1.0, 'x_76': 1.0, 'x_77': 1.0, 'x_78': 1.0, 'x_79': 1.0, 'x_8': 0.0, 'x_80': 1.0, 'x_81': 0.0, 'x_82': 1.0, 'x_83': 0.0, 'x_84': 1.0, 'x_85': 0.0, 'x_86': 0.0, 'x_87': 0.0, 'x_88': 1.0, 'x_89': 0.0, 'x_9': 0.0, 'x_90': 0.0, 'x_91': 1.0, 'x_92': 1.0, 'x_93': 1.0, 'x_94': 1.0, 'x_95': 1.0, 'x_96': 1.0, 'x_97': 0.0, 'x_98': 1.0, 'x_99': 0.0}, energy=32.17692217705613, num_occurrences=1, is_satisfied=array([ True,  True,  True,  True,  True,  True,  True,  True,  True,\n",
       "        True,  True,  True,  True]), is_feasible=True)"
      ]
     },
     "execution_count": 16,
     "metadata": {},
     "output_type": "execute_result"
    }
   ],
   "source": [
    "best"
   ]
  },
  {
   "cell_type": "code",
   "execution_count": null,
   "metadata": {},
   "outputs": [],
   "source": [
    "selected_group = [(key, val) for key, val in best.sample.items() if 'x' in key]\n",
    "group1 = np.ones(n)\n",
    "for idx, val in selected_group:\n",
    "    group1[int(idx.split('_')[1])-1] = val"
   ]
  },
  {
   "cell_type": "code",
   "execution_count": null,
   "metadata": {},
   "outputs": [],
   "source": [
    "group2 = np.ones(n) - group1"
   ]
  },
  {
   "cell_type": "code",
   "execution_count": null,
   "metadata": {},
   "outputs": [
    {
     "data": {
      "text/plain": [
       "1.4843168704933296"
      ]
     },
     "execution_count": 19,
     "metadata": {},
     "output_type": "execute_result"
    }
   ],
   "source": [
    "ClinicalTrial(w=w).discrepancy(group1, group2)"
   ]
  }
 ],
 "metadata": {
  "kernelspec": {
   "display_name": "Python 3",
   "language": "python",
   "name": "python3"
  },
  "language_info": {
   "codemirror_mode": {
    "name": "ipython",
    "version": 3
   },
   "file_extension": ".py",
   "mimetype": "text/x-python",
   "name": "python",
   "nbconvert_exporter": "python",
   "pygments_lexer": "ipython3",
   "version": "3.12.5"
  }
 },
 "nbformat": 4,
 "nbformat_minor": 2
}
