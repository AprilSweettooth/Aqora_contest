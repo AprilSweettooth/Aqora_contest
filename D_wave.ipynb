{
 "cells": [
  {
   "cell_type": "code",
   "execution_count": 40,
   "metadata": {},
   "outputs": [],
   "source": [
    "import numpy as np\n",
    "import pandas as pd\n",
    "\n",
    "\n",
    "class ClinicalTrial:\n",
    "    rho: float  # Relative importance between first and second moments\n",
    "    w: np.ndarray  # Normalized patient covariates\n",
    "\n",
    "    def __init__(self, w: np.ndarray, rho=0.5) -> None:\n",
    "        self.rho = rho\n",
    "        # Normalize covariates\n",
    "        self.w = (w - np.mean(w, axis=0)) / np.std(w, axis=0)\n",
    "\n",
    "    def assert_valid(self, group1: np.ndarray, group2: np.ndarray) -> None:\n",
    "        \"\"\"\n",
    "        Checks if the patient constraints are met.\n",
    "\n",
    "        Arguments (where n is the number of patients):\n",
    "            - group1: np.ndarray(size = n) => Binary array of patients belonging to group 1\n",
    "            - group2: np.ndarray(size = n) => Binary array of patients belonging to group 2\n",
    "        Throws an AssertionError if the constraints are not met.\n",
    "        \"\"\"\n",
    "        group_size = int(self.w.shape[0] / 2)\n",
    "        # constraint 1: number of people in each group\n",
    "        assert (\n",
    "            np.sum(group1) == group_size\n",
    "        ), f\"Each group should have {group_size} patients\"\n",
    "        # contraint 2: every patient is in one group\n",
    "        assert (\n",
    "            group1 + group2 == 1\n",
    "        ).all(), \"Every patient needs to be assigned to one group\"\n",
    "\n",
    "    def discrepancy(self, group1: np.ndarray, group2: np.ndarray) -> float:\n",
    "        \"\"\"\n",
    "        Calculates discrepancy between patient groups.\n",
    "\n",
    "        Arguments (where n is the number of patients):\n",
    "            - group1: np.ndarray(size = n) => Binary array of patients belonging to group 1\n",
    "            - group2: np.ndarray(size = n) => Binary array of patients belonging to group 2\n",
    "        Returns:\n",
    "            - float => Value of discrepancy measure for group1 and group2\n",
    "        \"\"\"\n",
    "        # Check that all the constraints are being met\n",
    "        self.assert_valid(group1, group2)\n",
    "\n",
    "        # Order of the groups is arbitrary\n",
    "        if group1[0] == 0:\n",
    "            group1, group2 = group2, group1\n",
    "\n",
    "        n, r = self.w.shape\n",
    "\n",
    "        # Calculate mean values for each covariate\n",
    "        Mu = []\n",
    "        for i in range(r):\n",
    "            Mu.append(self.w[:, i].dot(group1 - group2) / n)\n",
    "\n",
    "        # Calculate second moments (variance and covariance)\n",
    "        Var_ii = []  # variance\n",
    "        Var_ij = []  # covariance\n",
    "\n",
    "        for i in range(r):\n",
    "            for j in range(i, r):\n",
    "                if i == j:\n",
    "                    Var_ii.append((self.w[:, i] ** 2).dot(group1 - group2) / n)\n",
    "                else:\n",
    "                    Var_ij.append(\n",
    "                        (self.w[:, i] * self.w[:, j]).dot(group1 - group2) / n\n",
    "                    )\n",
    "        # print(            np.sum(np.abs(Mu)))\n",
    "        # Calculate final discrepancy\n",
    "        discrepancy = (\n",
    "            np.sum(np.abs(Mu))\n",
    "            + self.rho * np.sum(np.abs(Var_ii))\n",
    "            + 2 * self.rho * np.sum(np.abs(Var_ij))\n",
    "        )\n",
    "        return discrepancy\n",
    "\n",
    "    def __repr__(self) -> str:\n",
    "        return f\"ClinicalTrial(w=np.ndarray(shape={self.w.shape}), rho={self.rho})\"\n",
    "\n",
    "data = pd.read_csv('ingenii-clinical-trial/data/pbc.csv')\n",
    "w = data.sample(100, random_state=np.random.default_rng(42)).values\n",
    "ws = (w - np.mean(w, axis=0)) / np.std(w, axis=0)\n",
    "n, r = ws.shape"
   ]
  },
  {
   "cell_type": "code",
   "execution_count": 2,
   "metadata": {},
   "outputs": [],
   "source": [
    "import dimod\n",
    "N1 = round(np.ceil(np.sum(np.argsort(ws[:,0])[::-1][:int(n/2)])))  # number of slack variables\n",
    "N2 = round(np.ceil(np.sum(np.argsort(ws[:,1])[::-1][:int(n/2)])))  # number of slack variables\n",
    "N3 = round(np.ceil(np.sum(np.argsort(ws[:,2])[::-1][:int(n/2)])))  # number of slack variables\n",
    "N12 = round(np.ceil(np.sum(np.argsort(ws[:,0]*ws[:,1])[::-1][:int(n/2)])))  # number of slack variables\n",
    "N13 = round(np.ceil(np.sum(np.argsort(ws[:,0]*ws[:,2])[::-1][:int(n/2)])))  # number of slack variables\n",
    "N23 = round(np.ceil(np.sum(np.argsort(ws[:,1]*ws[:,2])[::-1][:int(n/2)])))  # number of slack variables\n",
    "Us = {'U1':N1, 'U2':N2, 'U3':N3, 'U4':N12, 'U5':N13, 'U6':N23}"
   ]
  },
  {
   "cell_type": "code",
   "execution_count": 3,
   "metadata": {},
   "outputs": [],
   "source": [
    "cqm = dimod.ConstrainedQuadraticModel()"
   ]
  },
  {
   "cell_type": "code",
   "execution_count": 4,
   "metadata": {},
   "outputs": [],
   "source": [
    "xs = {}\n",
    "for i in range(n):\n",
    "    xs['x'+str(i+1)] = 0\n",
    "x = [dimod.Binary(f\"x_{j+1}\") for j in range(n)]"
   ]
  },
  {
   "cell_type": "code",
   "execution_count": 5,
   "metadata": {},
   "outputs": [
    {
     "data": {
      "text/plain": [
       "'all_patients_allocation'"
      ]
     },
     "execution_count": 5,
     "metadata": {},
     "output_type": "execute_result"
    }
   ],
   "source": [
    "cqm.add_constraint(sum(x[i] for i in range(n)) == int(n/2), label=f'all_patients_allocation')"
   ]
  },
  {
   "cell_type": "code",
   "execution_count": 6,
   "metadata": {},
   "outputs": [],
   "source": [
    "quantities = [dimod.Real(f'{U}') for U in Us.keys()]"
   ]
  },
  {
   "cell_type": "code",
   "execution_count": 7,
   "metadata": {},
   "outputs": [],
   "source": [
    "for ind, U in enumerate(Us.keys()):\n",
    "    quantities[ind].set_upper_bound(U, Us[U])"
   ]
  },
  {
   "cell_type": "code",
   "execution_count": 8,
   "metadata": {},
   "outputs": [],
   "source": [
    "# Us_bin = {}\n",
    "# for i in range(6):\n",
    "#     Us_bin['U'+str(i+1)] = round(np.ceil(np.log2(Us['U'+str(i+1)])))\n",
    "# slacks = []\n",
    "# for ind, U in enumerate(Us_bin.keys()):\n",
    "#   slacks.append([dimod.Binary(f\"{U}_{j+1}\") for j in range(Us_bin[U])])"
   ]
  },
  {
   "cell_type": "code",
   "execution_count": 9,
   "metadata": {},
   "outputs": [],
   "source": [
    "# cqm.add_constraint(sum([ws[i,0]*x[i] for i in range(n)]) - sum(slacks[0]) <= 0, label=\"mu1\")\n",
    "# cqm.add_constraint(sum([ws[i,1]*x[i] for i in range(n)]) - sum(slacks[1]) <= 0, label=\"mu2\")\n",
    "# cqm.add_constraint(sum([ws[i,2]*x[i] for i in range(n)]) - sum(slacks[2]) <= 0, label=\"mu3\")\n",
    "# cqm.add_constraint(sum([ws[i,0]*ws[i,1]*x[i] for i in range(n)]) - sum(slacks[3]) <= 0, label=\"rho12\")\n",
    "# cqm.add_constraint(sum([ws[i,0]*ws[i,2]*x[i] for i in range(n)]) - sum(slacks[4]) <= 0, label=\"rho13\")\n",
    "# cqm.add_constraint(sum([ws[i,1]*ws[i,2]*x[i] for i in range(n)]) - sum(slacks[5]) <= 0, label=\"rho23\")"
   ]
  },
  {
   "cell_type": "code",
   "execution_count": 10,
   "metadata": {},
   "outputs": [],
   "source": [
    "square_cost = sum([1/2*(ws[i,0]**2+ws[i,1]**2+ws[i,2]**2)*x[i] for i in range(n)])\n",
    "cqm.set_objective(sum(quantities) + square_cost)"
   ]
  },
  {
   "cell_type": "code",
   "execution_count": 11,
   "metadata": {},
   "outputs": [
    {
     "data": {
      "text/plain": [
       "'rho23-'"
      ]
     },
     "execution_count": 11,
     "metadata": {},
     "output_type": "execute_result"
    }
   ],
   "source": [
    "cqm.add_constraint(sum([ws[i,0]*x[i] for i in range(n)]) - quantities[0] <= 0, label=\"mu1\")\n",
    "cqm.add_constraint(sum([ws[i,1]*x[i] for i in range(n)]) - quantities[1] <= 0, label=\"mu2\")\n",
    "cqm.add_constraint(sum([ws[i,2]*x[i] for i in range(n)]) - quantities[2] <= 0, label=\"mu3\")\n",
    "cqm.add_constraint(sum([ws[i,0]*ws[i,1]*x[i] for i in range(n)]) - quantities[3] <= 0, label=\"rho12\")\n",
    "cqm.add_constraint(sum([ws[i,0]*ws[i,2]*x[i] for i in range(n)]) - quantities[4] <= 0, label=\"rho13\")\n",
    "cqm.add_constraint(sum([ws[i,1]*ws[i,2]*x[i] for i in range(n)]) - quantities[5] <= 0, label=\"rho23\")\n",
    "\n",
    "cqm.add_constraint(- sum([ws[i,0]*x[i] for i in range(n)]) - quantities[0] <= 0, label=\"mu1-\")\n",
    "cqm.add_constraint(- sum([ws[i,1]*x[i] for i in range(n)]) - quantities[1] <= 0, label=\"mu2-\")\n",
    "cqm.add_constraint(- sum([ws[i,2]*x[i] for i in range(n)]) - quantities[2] <= 0, label=\"mu3-\")\n",
    "cqm.add_constraint(- sum([ws[i,0]*ws[i,1]*x[i] for i in range(n)]) - quantities[3] <= 0, label=\"rho12-\")\n",
    "cqm.add_constraint(- sum([ws[i,0]*ws[i,2]*x[i] for i in range(n)]) - quantities[4] <= 0, label=\"rho13-\")\n",
    "cqm.add_constraint(- sum([ws[i,1]*ws[i,2]*x[i] for i in range(n)]) - quantities[5] <= 0, label=\"rho23-\")"
   ]
  },
  {
   "cell_type": "code",
   "execution_count": 12,
   "metadata": {},
   "outputs": [
    {
     "data": {
      "text/plain": [
       "['all_patients_allocation',\n",
       " 'mu1',\n",
       " 'mu2',\n",
       " 'mu3',\n",
       " 'rho12',\n",
       " 'rho13',\n",
       " 'rho23',\n",
       " 'mu1-',\n",
       " 'mu2-',\n",
       " 'mu3-',\n",
       " 'rho12-',\n",
       " 'rho13-',\n",
       " 'rho23-']"
      ]
     },
     "execution_count": 12,
     "metadata": {},
     "output_type": "execute_result"
    }
   ],
   "source": [
    "list(cqm.constraints.keys())"
   ]
  },
  {
   "cell_type": "code",
   "execution_count": 13,
   "metadata": {},
   "outputs": [
    {
     "data": {
      "text/plain": [
       "106"
      ]
     },
     "execution_count": 13,
     "metadata": {},
     "output_type": "execute_result"
    }
   ],
   "source": [
    "len(cqm.variables)"
   ]
  },
  {
   "cell_type": "code",
   "execution_count": 47,
   "metadata": {},
   "outputs": [],
   "source": [
    "from dwave.system import LeapHybridCQMSampler\n",
    "sampler = LeapHybridCQMSampler(token='DEV-100ec3ead35fe44b2c0f1a7c0ca586059b8c4d45')                        \n",
    "sampleset = sampler.sample_cqm(cqm, time_limit=60*15)                    \n",
    "feasible_sampleset = sampleset.filter(lambda row: row.is_feasible)   \n",
    "print(\"{} feasible solutions of {}.\".format(len(feasible_sampleset), len(sampleset)))    "
   ]
  },
  {
   "cell_type": "code",
   "execution_count": 43,
   "metadata": {},
   "outputs": [],
   "source": [
    "best = feasible_sampleset.first"
   ]
  },
  {
   "cell_type": "code",
   "execution_count": 44,
   "metadata": {},
   "outputs": [],
   "source": [
    "selected_group = [(key, val) for key, val in best.sample.items() if 'x' in key]\n",
    "group1 = np.ones(n)\n",
    "for idx, val in selected_group:\n",
    "    group1[int(idx.split('_')[1])-1] = val"
   ]
  },
  {
   "cell_type": "code",
   "execution_count": 45,
   "metadata": {},
   "outputs": [],
   "source": [
    "group2 = np.ones(n) - group1"
   ]
  },
  {
   "cell_type": "code",
   "execution_count": 46,
   "metadata": {},
   "outputs": [
    {
     "data": {
      "text/plain": [
       "1.4731491642954206"
      ]
     },
     "execution_count": 46,
     "metadata": {},
     "output_type": "execute_result"
    }
   ],
   "source": [
    "ClinicalTrial(w=w).discrepancy(group1, group2)"
   ]
  }
 ],
 "metadata": {
  "kernelspec": {
   "display_name": "Python 3",
   "language": "python",
   "name": "python3"
  },
  "language_info": {
   "codemirror_mode": {
    "name": "ipython",
    "version": 3
   },
   "file_extension": ".py",
   "mimetype": "text/x-python",
   "name": "python",
   "nbconvert_exporter": "python",
   "pygments_lexer": "ipython3",
   "version": "3.12.5"
  }
 },
 "nbformat": 4,
 "nbformat_minor": 2
}
